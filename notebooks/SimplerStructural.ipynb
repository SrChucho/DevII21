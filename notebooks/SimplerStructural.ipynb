{
 "cells": [
  {
   "cell_type": "markdown",
   "metadata": {},
   "source": [
    "# Structural Transformation and Misallocation\n",
    "\n",
    "NOTES: \n",
    "  - Do simple structural first then add FI vs FS.\n",
    "  - FS vs FI makes little difference... not enough distortion...\n",
    "  - get to last section with variable labor.\n",
    "\n",
    "Jonathan Conning\n",
    "\n",
    "This notebook extends a simple model of structural transformation by adding a land-market misallocation within the agricultural sector that distorts the size distribution of farms. \n",
    "\n",
    "We adapt Lucas (1978) 'span-of-control' approach where each farmers non-traded farming skill determines the optimal scale of production and therefore also the size distribution of farms.  The actual size distribution of farms may diverge from the most efficient size distribution due to factor market imperfections, for example impediments to land transactions. Other papers, including Adamopoulos and Restuccia (2014) \"The size distribution of farms and international productivity differences\" (henceforth A&R), have adopted a similar framework, but here we work with a more tractable version.\n"
   ]
  },
  {
   "cell_type": "markdown",
   "metadata": {},
   "source": [
    "## A benchmark model\n",
    "\n",
    "This is like a specific factors model with land being specific to agriculture and labor mobile across sectors.  Each individual $i$ who is endowed with a non-traded farm skill ability $s_i$ which they discover only if they decide to become farm producers (see Lagakos and Waugh (2013) for a related model where skill is know prior to the choice of sector decision).  In an efficient allocation, those with higher farming skill would manage larger farms.\n",
    "\n",
    "A&R adopted the assumption that each farm consists of just one operator. There is no other labor on the farm farm.  This is a simplifying and unrealistic assumption (that can be relaxed), but we'll stick with it for now. "
   ]
  },
  {
   "cell_type": "markdown",
   "metadata": {},
   "source": [
    "### Non-homothetic preferences and agricultural subsistence\n",
    "\n",
    "$$\n",
    "\\phi \\log(c_a - \\bar a) + (1-\\phi) \\log(c_n)\n",
    "$$\n",
    "\n",
    "With non-homothetic Stone-Geary preferences such as this the household will first spend all resources on satisfying subsistence requirements (i.e. trying to reach $\\bar a$). "
   ]
  },
  {
   "cell_type": "code",
   "execution_count": 3,
   "metadata": {
    "tags": [
     "hide-input"
    ]
   },
   "outputs": [],
   "source": [
    "import numpy as np\n",
    "import matplotlib.pyplot as plt\n",
    "from ipywidgets import interact, fixed\n",
    "from scipy.optimize import fsolve, minimize"
   ]
  },
  {
   "cell_type": "markdown",
   "metadata": {},
   "source": [
    "## Agriculture and 'structural transformation'"
   ]
  },
  {
   "cell_type": "markdown",
   "metadata": {},
   "source": [
    "Sample model parameters"
   ]
  },
  {
   "cell_type": "code",
   "execution_count": 136,
   "metadata": {},
   "outputs": [],
   "source": [
    "A = 1    # TFP in Ag\n",
    "An = 1   # TFP in Non-Ag\n",
    "p = 1    # relative price of ag (used only in certain plots)\n",
    "Sbar = 100  # Total skill endowment \n",
    "Tbar = 100  # Total endowment of land\n",
    "Nbar = 100  # Total endowment of labor\n",
    "Kbar = 100\n",
    "gamma = 0.54 # land and labor share in ag\n",
    "alpha = 0.5  # labor share in non-ag\n",
    "beta = 0.7   # share of labor in land and and labor share\n",
    "\n",
    "phi = 0.2    # agriculture consumption share (at high levels of income)\n",
    "aa = 50       # subsistence requirement"
   ]
  },
  {
   "cell_type": "markdown",
   "metadata": {
    "tags": []
   },
   "source": [
    "## Households, farms, and equilibrium\n",
    "\n",
    "### Farm production \n",
    "\n",
    "A farm requires a single farm operator. Farmers are heterogenous in their non-traded skills, as summarized by the distribution $n_{ai}$ with $\\sum n_{ai} =1$. A farmer with skill level $S_i$ and land input $T_i$ will produce using the following production function (linear homogenous in $S_i$ and $T_i$:\n",
    "\n",
    "$$\n",
    "F(S_i, T_i) = A S_i^{1-\\gamma} T_i^{\\gamma} \n",
    "$$\n",
    "\n",
    "The 'stand-in' household maximizes their non-homothetic preferences.  The country produces what it consumes so we're really looking for a tangency between the PPF and an indifference curve.\n",
    "\n",
    "Only once enough labor $\\hat N_a$ has been allocated to subsistence will remaining labor $\\bar N - \\hat N_a$ be allocated between Agriculture and Non-Agriculture following constant expenditure shares.  The non-homoethetic preferences (and low weight $\\phi$) insure that as the agricultural economy becomes more productive (due either to higher $A$ or $A_n$ and/or to the more efficient allocation of resources in agriculture) the share of the population in agriculture declines."
   ]
  },
  {
   "cell_type": "markdown",
   "metadata": {},
   "source": [
    "$$\n",
    "\\max \\phi \\log(c_a - \\bar a) + (1-\\phi) \\log(c_n)\n",
    "$$\n",
    "subject to\n",
    "\n",
    "$$\n",
    "c_a + \\bar a =  A \\cdot \\sum \\mu_{i}N_a \\cdot F(S_i, T_i)\n",
    "$$\n",
    "\n",
    "$$\n",
    "c_n = A_n N_n^{\\alpha}  \n",
    "$$\n",
    "\n",
    "$$\n",
    "N_a + N_n = \\bar N\n",
    "$$\n",
    "\n"
   ]
  },
  {
   "cell_type": "markdown",
   "metadata": {},
   "source": [
    "### The Distribution of non-traded skills"
   ]
  },
  {
   "cell_type": "markdown",
   "metadata": {},
   "source": [
    "We focus here on simple discrete distributions.  To give a simple example, the following array summarize the share of of farmers in each skill class, and the skill level of each member of that class."
   ]
  },
  {
   "cell_type": "code",
   "execution_count": 137,
   "metadata": {},
   "outputs": [
    {
     "name": "stdout",
     "output_type": "stream",
     "text": [
      "[0.25 0.25 0.15 0.15 0.2 ] 1.0\n"
     ]
    }
   ],
   "source": [
    "mui = np.array([0.25, 0.25, 0.15, 0.15, 0.20])\n",
    "print(mui, sum(mui))"
   ]
  },
  {
   "cell_type": "code",
   "execution_count": 138,
   "metadata": {},
   "outputs": [],
   "source": [
    "Si = np.array([0.1, 0.4, 1, 2.2, 10])  "
   ]
  },
  {
   "cell_type": "markdown",
   "metadata": {},
   "source": [
    "The mean expected skill level is\n",
    "\n",
    "$$\n",
    "E(s) = \\sum_i \\mu_i \\cdot S_i\n",
    "$$"
   ]
  },
  {
   "cell_type": "code",
   "execution_count": 139,
   "metadata": {},
   "outputs": [
    {
     "data": {
      "text/plain": [
       "2.605"
      ]
     },
     "execution_count": 139,
     "metadata": {},
     "output_type": "execute_result"
    }
   ],
   "source": [
    "Es = np.sum(mui*Si)\n",
    "Es"
   ]
  },
  {
   "cell_type": "markdown",
   "metadata": {},
   "source": [
    "With $N_a$ (of $N$) households in agriculture the total skill deployed to agriculture is $N_a \\cdot E(S)$\n",
    "\n",
    "$$\n",
    "N_a \\cdot E(s)\n",
    "$$\n",
    "\n",
    "Remember individuals don't know their skill level until they enter agriculture (i.e. they can't sort themselves based on skill).  If there are $Na$ individuals in agriculture the total skill level would be $N_a \\cdot E(s)$. "
   ]
  },
  {
   "cell_type": "markdown",
   "metadata": {},
   "source": [
    "#### Labor required for subsistence "
   ]
  },
  {
   "cell_type": "markdown",
   "metadata": {},
   "source": [
    "Let's solve for the agricultural farm population $N_a$ such that subsistence requirements are just met\n",
    "\n",
    "$$\n",
    "A \\cdot (\\hat N_a E(s))^{1-\\gamma} \\cdot T^\\gamma = \\bar a\n",
    "$$\n",
    "\n",
    "which yields\n",
    "\n",
    "$$ \n",
    "\\hat N_a = \\frac{ \\left ( \\frac{\\bar a}{A T^{\\gamma} } \\right )^\\frac{1}{(1-\\gamma)}}{E(s)}\n",
    "$$"
   ]
  },
  {
   "cell_type": "markdown",
   "metadata": {},
   "source": [
    "###  Efficient allocations"
   ]
  },
  {
   "cell_type": "markdown",
   "metadata": {},
   "source": [
    "To equalize marginal products an achieve an efficient allocation of land. higher-skilled farmers must have access to larger farm plots. It is easy to show that efficient plot size will be proportional to the farmer's relative skill:\n",
    "\n",
    "$$\n",
    "T_i = \\frac{ S_i}{E(s)} \\cdot \\frac{\\bar T}{N_a}\n",
    "$$\n",
    "\n",
    "Higher than average skill farmers $(S_i>E(s))$ operate larger than average farms.\n",
    "\n",
    "Substituting this land allocation into the expressions for the marginal product of land confirms that this this equalizes the marginal product of land across farms."
   ]
  },
  {
   "cell_type": "markdown",
   "metadata": {},
   "source": [
    "#### Efficient output and profits\n",
    "\n",
    "Given an allocation of $N_a$ households to the agricultural sector, an efficient allocation of land across farms leads to total agricultural output:\n",
    "\n",
    "$$\n",
    "F(N_a) = N_a \\cdot A \\cdot \\sum \\mu_i S_i^{1-\\gamma} \\left (\\frac{ S_i}{E(s)} \\cdot \\frac{\\bar T}{N_a} \\right )^\\gamma\n",
    "$$\n",
    "\n",
    "\n",
    "$$\n",
    "= N_a \\left ( A E(s) \\right )^{1-\\gamma} \\cdot  \\bar T ^\\gamma\n",
    "$$\n",
    "\n",
    "Farm \"profits\" are really a return to the farmers' non-traded skill. Total profits:\n",
    "\n",
    "$$\n",
    "\\Pi = (1-\\gamma) F(N_a)\n",
    "$$"
   ]
  },
  {
   "cell_type": "markdown",
   "metadata": {},
   "source": [
    "And profits are apportioned according to $\\frac{ S_i}{E(s)} \\frac{\\Pi}{N_a}$"
   ]
  },
  {
   "cell_type": "markdown",
   "metadata": {},
   "source": [
    "###  Inefficient but Egalitarian\n",
    "\n",
    "Let's contrast the efficient allocation to allocations with an egalitarian norm where each household receives an equal allocation of land, regardless of skill, and the land market is shut down.\n",
    "\n",
    "$$\n",
    "T_i = \\frac{\\bar T}{N_a}\n",
    "$$\n",
    "\n",
    "And total output will be\n",
    "$$\n",
    "F^I(N_a) = A \\cdot \\sum n_i S_i^{1-\\gamma} \\left (\\frac{\\bar T}{N_a} \\right )^\\gamma\n",
    "$$\n",
    "\n"
   ]
  },
  {
   "cell_type": "markdown",
   "metadata": {},
   "source": [
    "$$\n",
    "F^I(N_a) = A \\cdot \\left (\\frac{\\bar T}{N_a} \\right )^\\gamma \\cdot \\sum n_i S_i^{1-\\gamma} \n",
    "$$"
   ]
  },
  {
   "cell_type": "markdown",
   "metadata": {},
   "source": [
    "$$\n",
    "F^I(N_a)  = A \\left (N_a E(s) \\right )^{1-\\gamma} \\cdot  \\bar T ^\\gamma   \n",
    "  \\cdot \\frac{\\sum n_i S_i^{1-\\gamma}}{E(s)^{1-\\gamma}}\n",
    "$$\n",
    "\n",
    "\n",
    "$$\n",
    "F^I(N_a)  = F(N_a)   \\cdot \\sum n_i \\left ( \\frac{S_i}{E(s)} \\right )^{1-\\gamma} \n",
    "$$"
   ]
  },
  {
   "cell_type": "markdown",
   "metadata": {},
   "source": [
    "This shows that if $S_i = E(s)$ (i.e. everyone has the same skill level) then the last term becomes 1 and the allocation is efficient. \n",
    "\n",
    "If however there is dispersion in the $S_i$ then the output of the agricultural sector will in general fall short of its efficient potential."
   ]
  },
  {
   "cell_type": "markdown",
   "metadata": {},
   "source": [
    "In our simple numerical example, the skill levels were "
   ]
  },
  {
   "cell_type": "code",
   "execution_count": 140,
   "metadata": {},
   "outputs": [
    {
     "data": {
      "text/plain": [
       "array([ 0.1,  0.4,  1. ,  2.2, 10. ])"
      ]
     },
     "execution_count": 140,
     "metadata": {},
     "output_type": "execute_result"
    }
   ],
   "source": [
    "Si"
   ]
  },
  {
   "cell_type": "code",
   "execution_count": 141,
   "metadata": {},
   "outputs": [
    {
     "data": {
      "image/png": "[encoded data removed]",
      "text/plain": [
       "<Figure size 432x288 with 1 Axes>"
      ]
     },
     "metadata": {
      "needs_background": "light"
     },
     "output_type": "display_data"
    }
   ],
   "source": [
    "plt.bar(Si, mui);"
   ]
  },
  {
   "cell_type": "markdown",
   "metadata": {},
   "source": [
    "So total skill in each group is"
   ]
  },
  {
   "cell_type": "code",
   "execution_count": 142,
   "metadata": {},
   "outputs": [
    {
     "data": {
      "text/plain": [
       "array([0.025, 0.1  , 0.15 , 0.33 , 2.   ])"
      ]
     },
     "execution_count": 142,
     "metadata": {},
     "output_type": "execute_result"
    }
   ],
   "source": [
    "mui*Si"
   ]
  },
  {
   "cell_type": "markdown",
   "metadata": {},
   "source": [
    "Hence there is this much skill in each group"
   ]
  },
  {
   "cell_type": "markdown",
   "metadata": {},
   "source": [
    "So output would be about 15 percent below efficient potential"
   ]
  },
  {
   "cell_type": "code",
   "execution_count": 144,
   "metadata": {},
   "outputs": [
    {
     "data": {
      "text/plain": [
       "0.7680687067633832"
      ]
     },
     "execution_count": 144,
     "metadata": {},
     "output_type": "execute_result"
    }
   ],
   "source": [
    "np.sum(mui * (Si/Es)**(1-gamma))"
   ]
  },
  {
   "cell_type": "markdown",
   "metadata": {},
   "source": [
    "### General Equilibrium"
   ]
  },
  {
   "cell_type": "code",
   "execution_count": 146,
   "metadata": {
    "tags": [
     "hide-input"
    ]
   },
   "outputs": [],
   "source": [
    "def FS(Na, A=A, Tbar=Tbar):\n",
    "    '''Efficient total production'''\n",
    "    Es = np.sum(mui*Si)\n",
    "    return A * (Na*Es)**(1-gamma) * Tbar**gamma\n",
    "\n",
    "def FI(Na, A=A, Tbar=Tbar):\n",
    "    '''Egalitarian inefficient production'''\n",
    "    return FS(Na, A=A, Tbar=Tbar) * np.sum(mui * (Si/Es)**(1-gamma))\n",
    "\n",
    "def G(Nn, An=An):\n",
    "    return An * Nn**alpha * Kbar**(1-alpha)\n",
    "\n",
    "def U(ca, cn, aa, phi):\n",
    "    return phi*np.log(ca-aa) + (1-phi)*np.log(cn)\n",
    "\n",
    "def indif(aa, phi, ubar):\n",
    "    '''return a function that plots indifference curve of value ubar'''\n",
    "    def idf(ca):\n",
    "        H = (1/(1-phi))* (ubar - phi*np.log(ca-aa))\n",
    "        return np.exp(H)\n",
    "    return idf"
   ]
  },
  {
   "cell_type": "code",
   "execution_count": 12,
   "metadata": {},
   "outputs": [],
   "source": [
    "def obj(x, A=A, An=An, aa=aa, Tbar=Tbar,  phi=phi):\n",
    "    return -(phi*np.log(FS(x,  A, Tbar) - aa) + (1-phi)*np.log(G(Nbar-x, An)))\n",
    "\n",
    "def objI(x, A=A, An=An, aa=aa, Tbar=Tbar,  phi=phi):\n",
    "    '''The egalitarian but inefficient technology'''\n",
    "    return -(phi*np.log(FI(x,  A, Tbar) - aa) + (1-phi)*np.log(G(Nbar-x, An)))"
   ]
  },
  {
   "cell_type": "code",
   "execution_count": null,
   "metadata": {},
   "outputs": [],
   "source": []
  },
  {
   "cell_type": "code",
   "execution_count": 151,
   "metadata": {},
   "outputs": [
    {
     "data": {
      "text/plain": [
       "      fun: -4.277484699798854\n",
       " hess_inv: array([[2773.92034083]])\n",
       "      jac: array([-1.78813934e-07])\n",
       "  message: 'Optimization terminated successfully.'\n",
       "     nfev: 22\n",
       "      nit: 5\n",
       "     njev: 11\n",
       "   status: 0\n",
       "  success: True\n",
       "        x: array([33.10460616])"
      ]
     },
     "execution_count": 151,
     "metadata": {},
     "output_type": "execute_result"
    }
   ],
   "source": [
    "x0 = 50\n",
    "sol = minimize(obj, x0, args=(A, An, aa, Tbar,  phi))\n",
    "sol"
   ]
  },
  {
   "cell_type": "code",
   "execution_count": 148,
   "metadata": {
    "tags": [
     "hide-input"
    ]
   },
   "outputs": [],
   "source": [
    "def obj(x, A=A, An=An, aa=aa, Tbar=Tbar,  phi=phi):\n",
    "    return -(phi*np.log(FS(x,  A, Tbar) - aa) + (1-phi)*np.log(G(Nbar-x, An)))\n",
    "\n",
    "def objI(x, A=A, An=An, aa=aa, Tbar=Tbar,  phi=phi):\n",
    "    '''The egalitarian but inefficient technology'''\n",
    "    return -(phi*np.log(FI(x,  A, Tbar) - aa) + (1-phi)*np.log(G(Nbar-x, An)))"
   ]
  },
  {
   "cell_type": "code",
   "execution_count": 150,
   "metadata": {},
   "outputs": [
    {
     "name": "stderr",
     "output_type": "stream",
     "text": [
      "C:\\Users\\jconn\\anaconda3\\lib\\site-packages\\ipykernel_launcher.py:2: RuntimeWarning: invalid value encountered in log\n",
      "  \n",
      "C:\\Users\\jconn\\anaconda3\\lib\\site-packages\\ipykernel_launcher.py:6: RuntimeWarning: invalid value encountered in log\n",
      "  \n"
     ]
    },
    {
     "data": {
      "text/plain": [
       "[<matplotlib.lines.Line2D at 0x2546bc12748>]"
      ]
     },
     "execution_count": 150,
     "metadata": {},
     "output_type": "execute_result"
    },
    {
     "data": {
      "image/png": "[encoded data removed]",
      "text/plain": [
       "<Figure size 432x288 with 1 Axes>"
      ]
     },
     "metadata": {
      "needs_background": "light"
     },
     "output_type": "display_data"
    }
   ],
   "source": [
    "nna = np.linspace(1,99,100)\n",
    "plt.plot(nna, -obj(nna), color='k')\n",
    "plt.plot(nna, -objI(nna), color='r')\n",
    "#plt.ylim(3,3.7);"
   ]
  },
  {
   "cell_type": "code",
   "execution_count": 14,
   "metadata": {},
   "outputs": [
    {
     "data": {
      "text/plain": [
       "      fun: -3.5645670754954955\n",
       " hess_inv: array([[1450.68745884]])\n",
       "      jac: array([7.4505806e-06])\n",
       "  message: 'Optimization terminated successfully.'\n",
       "     nfev: 42\n",
       "      nit: 6\n",
       "     njev: 14\n",
       "   status: 0\n",
       "  success: True\n",
       "        x: array([14.09672331])"
      ]
     },
     "execution_count": 14,
     "metadata": {},
     "output_type": "execute_result"
    }
   ],
   "source": [
    "sol"
   ]
  },
  {
   "cell_type": "markdown",
   "metadata": {},
   "source": [
    "Package our solution optimizer into a function.  Here we are solving for the share of labor in agriculture that max's utility."
   ]
  },
  {
   "cell_type": "markdown",
   "metadata": {},
   "source": [
    "$$ \n",
    "\\hat N_a = \\frac{ \\left ( \\frac{\\bar a}{A T^{\\gamma} } \\right )^\\frac{1}{(1-\\gamma)}}{E(s)}\n",
    "$$"
   ]
  },
  {
   "cell_type": "code",
   "execution_count": 152,
   "metadata": {},
   "outputs": [],
   "source": [
    "def Na_opt(A=A, An=An, aa=aa, Tbar=Tbar, phi=phi, obj=obj ):\n",
    "    \n",
    "    x0=aa\n",
    "    sol = minimize(obj, x0, args=(A,An, aa,Tbar, phi))\n",
    "    Na = sol.x[0]\n",
    "    \n",
    "    return Na, FS(Na, A, Tbar), G(Nbar-Na, An)"
   ]
  },
  {
   "cell_type": "code",
   "execution_count": 153,
   "metadata": {},
   "outputs": [
    {
     "data": {
      "text/plain": [
       "50"
      ]
     },
     "execution_count": 153,
     "metadata": {},
     "output_type": "execute_result"
    }
   ],
   "source": [
    "aa"
   ]
  },
  {
   "cell_type": "code",
   "execution_count": 154,
   "metadata": {},
   "outputs": [
    {
     "data": {
      "text/plain": [
       "(56.10678500921641, 119.07446290114243, 66.25195468118929)"
      ]
     },
     "execution_count": 154,
     "metadata": {},
     "output_type": "execute_result"
    }
   ],
   "source": [
    "Na_opt(A=A, aa=75, obj= objI)"
   ]
  },
  {
   "cell_type": "code",
   "execution_count": 155,
   "metadata": {},
   "outputs": [
    {
     "data": {
      "application/vnd.jupyter.widget-view+json": {
       "model_id": "778a87d690a64506a7977305d5de8ba2",
       "version_major": 2,
       "version_minor": 0
      },
      "text/plain": [
       "interactive(children=(FloatSlider(value=1.0, description='A', max=1.5, min=0.5), FloatSlider(value=1.0, descri…"
      ]
     },
     "metadata": {},
     "output_type": "display_data"
    }
   ],
   "source": [
    "interact(Na_opt, A=(0.5,1.5,0.1), aa=(0,90,1), An=(0.5,5,0.1), Tbar=(50,150,10), phi=(0.02, 0.4,0.02), obj=[obj, objI]);"
   ]
  },
  {
   "cell_type": "code",
   "execution_count": 161,
   "metadata": {},
   "outputs": [],
   "source": [
    "def ppfs(A=A, An=An, Tbar=Tbar, aa=aa, obj=obj, show=True):\n",
    "    na = np.arange(1,Nbar,1)\n",
    "    ca = np.arange(1,200,1)\n",
    "    nahat = (aa/(A* Tbar**gamma ))**(1/(1-gamma))/Es\n",
    "    Qa = FS(na, A, Tbar)\n",
    "    Qn = G(Nbar-na, An)\n",
    "    plt.xlim(0, 200)\n",
    "    plt.ylim(0, 200)\n",
    "    plt.plot(Qa, Qn,  color='k')\n",
    "    NA, QA, QN = Na_opt(A, An, aa, Tbar, phi=phi, obj=obj)\n",
    "    print(NA, QA, QN)\n",
    "    ubar = U(QA, QN, aa, phi)\n",
    "    plt.scatter(QA, QN, color='b')\n",
    "    idf = indif(aa, phi, ubar)\n",
    "    ca_ = ca[np.int64(QA*0.5): np.int64(QA*1.5) ]\n",
    "    plt.plot(ca_, idf(ca_), color='r');\n",
    "    plt.vlines(aa, ymin=0, ymax=Qn[0]*1.5, linestyle=':')\n",
    "    print(f\"Na_hat={nahat:2.2f}, Na/Nbar = {NA/Nbar:3.2f}, NA={NA:3.1f}, AFS = {Tbar/NA:3.1f}\")\n",
    "    plt.grid()\n",
    "    if show:\n",
    "      plt.show()"
   ]
  },
  {
   "cell_type": "code",
   "execution_count": 162,
   "metadata": {},
   "outputs": [
    {
     "name": "stdout",
     "output_type": "stream",
     "text": [
      "33.10460616340891 93.41577700172721 81.78960437402245\n",
      "Na_hat=8.51, Na/Nbar = 0.33, NA=33.1, AFS = 3.0\n",
      "39.266902021996515 101.04708942566701 77.93144293416071\n",
      "Na_hat=8.51, Na/Nbar = 0.39, NA=39.3, AFS = 2.5\n"
     ]
    },
    {
     "name": "stderr",
     "output_type": "stream",
     "text": [
      "C:\\Users\\jconn\\anaconda3\\lib\\site-packages\\ipykernel_launcher.py:19: RuntimeWarning: divide by zero encountered in log\n",
      "C:\\Users\\jconn\\anaconda3\\lib\\site-packages\\ipykernel_launcher.py:19: RuntimeWarning: invalid value encountered in log\n"
     ]
    },
    {
     "data": {
      "image/png": "[encoded data removed]",
      "text/plain": [
       "<Figure size 432x288 with 1 Axes>"
      ]
     },
     "metadata": {
      "needs_background": "light"
     },
     "output_type": "display_data"
    }
   ],
   "source": [
    "ppfs(A= 1, aa=50, obj=obj, show=False)\n",
    "ppfs(A= 1, aa=50, obj=objI)"
   ]
  },
  {
   "cell_type": "code",
   "execution_count": 163,
   "metadata": {},
   "outputs": [
    {
     "data": {
      "application/vnd.jupyter.widget-view+json": {
       "model_id": "42c9fdb1067e43bfb9309cc4362bf055",
       "version_major": 2,
       "version_minor": 0
      },
      "text/plain": [
       "interactive(children=(FloatSlider(value=1.0, description='A', max=3.0, min=1.0), FloatSlider(value=2.0, descri…"
      ]
     },
     "metadata": {},
     "output_type": "display_data"
    }
   ],
   "source": [
    "interact(ppfs, aa=(5,75,5), A=(1,3,0.1), An=(2,3,0.1), Tbar=(50,200,10), obj= [obj, objI], show=fixed(True));"
   ]
  },
  {
   "cell_type": "markdown",
   "metadata": {},
   "source": [
    "---"
   ]
  },
  {
   "cell_type": "markdown",
   "metadata": {},
   "source": [
    "##  Four quadrant diagram\n",
    "\n",
    "Reminiscent of Fei and Ranis..These used to be my favorites.."
   ]
  },
  {
   "cell_type": "code",
   "execution_count": 164,
   "metadata": {},
   "outputs": [],
   "source": [
    "def fourquad(A=A, An=An, Tbar=Tbar, aa=aa):\n",
    "    gmax = 150\n",
    "    nn = np.linspace(0.1, Nbar,100)\n",
    "    plt.figure(figsize=(10,10))\n",
    "    ppfs(A=A, An=An, Tbar=Tbar, aa=aa, show=False)\n",
    "    plt.xlim(-gmax, gmax)\n",
    "    plt.ylim(-gmax, gmax)\n",
    "    plt.plot(FS(nn, A=A, Tbar=Tbar), -nn)\n",
    "    plt.plot(-nn, G(nn, An) )\n",
    "    plt.plot(-nn, nn-Nbar)\n",
    "    NA, QA, QN = Na_opt(A, An, aa, Tbar, phi=phi)\n",
    "    plt.hlines(-NA, xmin=(NA-Nbar), xmax=QA,linestyle=\":\")\n",
    "    plt.hlines(QN, xmin=(NA-Nbar), xmax=QA,linestyle=\":\")\n",
    "    plt.vlines(QA, ymin=-NA, ymax=QN,linestyle=\":\")\n",
    "    plt.vlines(NA-Nbar, ymin=-NA, ymax=QN,linestyle=\":\")\n",
    "    ax = plt.gca()\n",
    "    ax.spines['bottom'].set_position('zero')\n",
    "    ax.spines['left'].set_position('zero')\n",
    "    ax.spines['right'].set_visible(False)\n",
    "    ax.spines['top'].set_visible(False)\n",
    "    plt.text(gmax*0.90,-10,r'$Q_A$', fontsize=15)\n",
    "    plt.text(-3,gmax,r'$Q_N$', fontsize=15)\n",
    "    plt.text(0,-0.9*gmax,'$N_a$', rotation=-90, fontsize=15)\n",
    "    plt.text(-0.9*gmax,2,r'$N_n$', fontsize=15)\n",
    "    plt.text(FS(55, A=A, Tbar=Tbar), -60, r'$F(N_a)$', fontsize=15)\n",
    "    plt.text(-95, G(95, An=An), r'$G(N_n)$', fontsize=15)\n",
    "    plt.show()"
   ]
  },
  {
   "cell_type": "code",
   "execution_count": 165,
   "metadata": {},
   "outputs": [
    {
     "name": "stdout",
     "output_type": "stream",
     "text": [
      "33.10460616340891 93.41577700172721 81.78960437402245\n",
      "Na_hat=8.51, Na/Nbar = 0.33, NA=33.1, AFS = 3.0\n"
     ]
    },
    {
     "name": "stderr",
     "output_type": "stream",
     "text": [
      "C:\\Users\\jconn\\anaconda3\\lib\\site-packages\\ipykernel_launcher.py:19: RuntimeWarning: divide by zero encountered in log\n",
      "C:\\Users\\jconn\\anaconda3\\lib\\site-packages\\ipykernel_launcher.py:19: RuntimeWarning: invalid value encountered in log\n"
     ]
    },
    {
     "data": {
      "image/png": "[encoded data removed]",
      "text/plain": [
       "<Figure size 720x720 with 1 Axes>"
      ]
     },
     "metadata": {
      "needs_background": "light"
     },
     "output_type": "display_data"
    }
   ],
   "source": [
    "fourquad()"
   ]
  },
  {
   "cell_type": "code",
   "execution_count": 167,
   "metadata": {},
   "outputs": [
    {
     "data": {
      "application/vnd.jupyter.widget-view+json": {
       "model_id": "0ca94ace28994b7fb079a171662bad9f",
       "version_major": 2,
       "version_minor": 0
      },
      "text/plain": [
       "interactive(children=(FloatSlider(value=1.0, description='A', max=2.0, min=0.1, step=0.05), FloatSlider(value=…"
      ]
     },
     "metadata": {},
     "output_type": "display_data"
    }
   ],
   "source": [
    "interact(fourquad, A=(0.1,2,0.05), An=(1,2,0.1),  aa=(5,80,1), Tbar=(50,400,25));"
   ]
  },
  {
   "cell_type": "code",
   "execution_count": null,
   "metadata": {},
   "outputs": [],
   "source": []
  },
  {
   "cell_type": "markdown",
   "metadata": {},
   "source": [
    "## OLDER STUFF \n"
   ]
  },
  {
   "cell_type": "markdown",
   "metadata": {},
   "source": [
    "### Earlier model with variable number of workers in AG"
   ]
  },
  {
   "cell_type": "code",
   "execution_count": 23,
   "metadata": {},
   "outputs": [],
   "source": [
    "def F(Na, T=Tbar, A=A):\n",
    "    return A * (T**(1-beta) * Na**beta)**gamma\n",
    "\n",
    "def G(Nn, An=An):\n",
    "    return An * Nn**alpha"
   ]
  },
  {
   "cell_type": "code",
   "execution_count": 24,
   "metadata": {},
   "outputs": [],
   "source": [
    "def MVPLN(Nn, An=An):\n",
    "    return alpha*G(Nn, An)/Nn\n",
    "\n",
    "def MVPLA(Na, p, T=Tbar, A=A):\n",
    "    '''Assumes total profits divided by Na'''\n",
    "    return p*beta*gamma*F(Na, T, A)/Na\n",
    "\n",
    "def U(ca, cn, aa, phi):\n",
    "    return phi*np.log(ca-aa) + (1-phi)*np.log(cn)\n",
    "\n",
    "def indif(ca, aa, ubar, phi=phi):\n",
    "    logcn =  np.exp(ubar - phi(np.log(ca-aa)) )/(1-phi)\n",
    "    return np.exp(logcn)"
   ]
  },
  {
   "cell_type": "markdown",
   "metadata": {},
   "source": [
    "The minimum amount of labor required to satisfy subsistence needs"
   ]
  },
  {
   "cell_type": "markdown",
   "metadata": {},
   "source": [
    "$$ \n",
    "\\hat N_a = \\left ( \\frac{\\bar a}{A T^{\\beta \\gamma} } \\right )^\\frac{1}{\\gamma (1-\\beta)}\n",
    "$$"
   ]
  },
  {
   "cell_type": "code",
   "execution_count": 25,
   "metadata": {},
   "outputs": [],
   "source": [
    "def Na_hat(aa=aa, Tbar=Tbar, A=A):\n",
    "    return (aa/(A*Tbar**((1-beta)*gamma))) **(1/(gamma*beta))\n"
   ]
  },
  {
   "cell_type": "code",
   "execution_count": 26,
   "metadata": {},
   "outputs": [
    {
     "data": {
      "application/vnd.jupyter.widget-view+json": {
       "model_id": "a2822682c07649bd998436cdf343ac64",
       "version_major": 2,
       "version_minor": 0
      },
      "text/plain": [
       "interactive(children=(IntSlider(value=5, description='aa', max=10), IntSlider(value=100, description='Tbar', m…"
      ]
     },
     "metadata": {},
     "output_type": "display_data"
    }
   ],
   "source": [
    "interact(Na_hat, aa=(0,10,1), Tbar=(50,200,10), A=(1,5,0.1));"
   ]
  },
  {
   "cell_type": "code",
   "execution_count": 27,
   "metadata": {},
   "outputs": [],
   "source": [
    "def obj(x, A=A, An=An, aa=aa, Tbar=Tbar,  phi=phi):\n",
    "    return -(phi*np.log(F(x, Tbar, A) - aa) + (1-phi)*np.log(G(Nbar-x, An)))"
   ]
  },
  {
   "cell_type": "markdown",
   "metadata": {},
   "source": [
    "Illustration of how to maximize the objective and find a solution."
   ]
  },
  {
   "cell_type": "code",
   "execution_count": 28,
   "metadata": {},
   "outputs": [],
   "source": [
    "x0 = 50\n",
    "sol = minimize(obj, x0, args=(A, An, aa, Tbar,  phi))"
   ]
  },
  {
   "cell_type": "code",
   "execution_count": 29,
   "metadata": {},
   "outputs": [
    {
     "data": {
      "text/plain": [
       "      fun: -3.0095233249268687\n",
       " hess_inv: array([[1530.3383219]])\n",
       "      jac: array([-6.04987144e-06])\n",
       "  message: 'Optimization terminated successfully.'\n",
       "     nfev: 33\n",
       "      nit: 5\n",
       "     njev: 11\n",
       "   status: 0\n",
       "  success: True\n",
       "        x: array([19.33072965])"
      ]
     },
     "execution_count": 29,
     "metadata": {},
     "output_type": "execute_result"
    }
   ],
   "source": [
    "sol"
   ]
  },
  {
   "cell_type": "code",
   "execution_count": 30,
   "metadata": {},
   "outputs": [],
   "source": [
    "def Na_opt(A=A, An=An, aa=aa, Tbar=Tbar, phi=phi ):\n",
    "    \n",
    "    sol = minimize(obj, x0,args=(A,An, aa,Tbar, phi))\n",
    "    Na = sol.x[0]\n",
    "    \n",
    "    return Na, F(Na, Tbar, A), G(Nbar-Na, An)"
   ]
  },
  {
   "cell_type": "markdown",
   "metadata": {},
   "source": [
    "Explore how it responds to parameters...\n",
    "\n",
    "All seems to make sense"
   ]
  },
  {
   "cell_type": "code",
   "execution_count": 31,
   "metadata": {},
   "outputs": [],
   "source": [
    "def ppf(A=A, An=An, Tbar=Tbar, aa=aa, show=True):\n",
    "    na = np.arange(1,Nbar,1)\n",
    "    ca = np.arange(1,20,1)\n",
    "    nahat = (aa/(A* Tbar**((1-beta)*gamma) ))**(1/(gamma*beta))\n",
    "    Qa = F(na, Tbar, A)\n",
    "    Qn = G(Nbar-na, An)\n",
    "    plt.xlim(0,100)\n",
    "    plt.ylim(0,100)\n",
    "    plt.plot(Qa, Qn)\n",
    "    NA, QA, QN = Na_opt(A, An, aa, Tbar, phi=phi)\n",
    "    ubar = U(QA, QN, aa, phi)\n",
    "    #plt.plot(ca, indif(ca, aa, ubar))\n",
    "    plt.scatter(QA, QN)\n",
    "    plt.vlines(aa, ymin=0, ymax=Qn[0]*1.5)\n",
    "    print(f\"Na_hat={nahat:2.2f}, Na/Nbar = {NA/Nbar:3.2f}, NA={NA:3.1f}, AFS = {Tbar/NA:3.1f}\")\n",
    "    if show:\n",
    "        plt.show()"
   ]
  },
  {
   "cell_type": "code",
   "execution_count": 32,
   "metadata": {},
   "outputs": [],
   "source": [
    "def U(ca, cn, aa, phi):\n",
    "    return phi*np.log(ca-aa) + (1-phi)*np.log(cn)\n",
    "\n",
    "def indif(ca, aa, ubar, phi=phi):\n",
    "    np.where(ca >aa, np.exp( (ubar - phi*np.log(ca-aa) )/(1-phi) ), 0 )   "
   ]
  }
 ],
 "metadata": {
  "kernelspec": {
   "display_name": "Python 3 (ipykernel)",
   "language": "python",
   "name": "python3"
  },
  "language_info": {
   "codemirror_mode": {
    "name": "ipython",
    "version": 3
   },
   "file_extension": ".py",
   "mimetype": "text/x-python",
   "name": "python",
   "nbconvert_exporter": "python",
   "pygments_lexer": "ipython3",
   "version": "3.7.11"
  },
  "varInspector": {
   "cols": {
    "lenName": 16,
    "lenType": 16,
    "lenVar": 40
   },
   "kernels_config": {
    "python": {
     "delete_cmd_postfix": "",
     "delete_cmd_prefix": "del ",
     "library": "var_list.py",
     "varRefreshCmd": "print(var_dic_list())"
    },
    "r": {
     "delete_cmd_postfix": ") ",
     "delete_cmd_prefix": "rm(",
     "library": "var_list.r",
     "varRefreshCmd": "cat(var_dic_list()) "
    }
   },
   "types_to_exclude": [
    "module",
    "function",
    "builtin_function_or_method",
    "instance",
    "_Feature"
   ],
   "window_display": false
  },
  "widgets": {
   "application/vnd.jupyter.widget-state+json": {
    "state": {},
    "version_major": 2,
    "version_minor": 0
   }
  }
 },
 "nbformat": 4,
 "nbformat_minor": 4
}
