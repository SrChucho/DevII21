{
 "cells": [
  {
   "cell_type": "markdown",
   "metadata": {
    "slideshow": {
     "slide_type": "slide"
    }
   },
   "source": [
    "# Risk Sharing and Moral Hazard"
   ]
  },
  {
   "cell_type": "code",
   "execution_count": 17,
   "metadata": {
    "slideshow": {
     "slide_type": "skip"
    }
   },
   "outputs": [],
   "source": [
    "%matplotlib inline\n",
    "import numpy as np\n",
    "import matplotlib.pyplot as plt\n",
    "from ipywidgets import interact, fixed"
   ]
  },
  {
   "cell_type": "markdown",
   "metadata": {
    "slideshow": {
     "slide_type": "slide"
    }
   },
   "source": [
    "# Risk-sharing review\n",
    "\n",
    "\n",
    "### A simple employment contract\n",
    "\n",
    "Employer hires worker to perform a task that has a stochastic outcome.  Project can either:\n",
    "- with probability $p$ succeeds to yield $X_s$\n",
    "- with probability $1-p$ fails to yield $X_f < X_S$\n",
    "\n",
    "There are two states of the world lebeled $s$ and $f$.  The expected return from the project is: $E(X|p) = p \\cdot X_s + (1-p) \\cdot X_f $"
   ]
  },
  {
   "cell_type": "markdown",
   "metadata": {
    "slideshow": {
     "slide_type": "subslide"
    }
   },
   "source": [
    "## Example\n",
    "\n",
    "$X_s = 100$, $X_f = 0$,  $p = 0.8$\n",
    "\n",
    "$E(X|p) = 0.8 \\cdot 100 + 0.2 \\cdot 0 = 80 $"
   ]
  },
  {
   "cell_type": "markdown",
   "metadata": {
    "slideshow": {
     "slide_type": "slide"
    }
   },
   "source": [
    "## Risk neutral employer and risk-averse agent\n",
    "\n",
    "Contract design problem: how to allocate claims to stochastic output between:\n",
    "\n",
    "- Principal (Employer):  $(X_s-c_s, X_f-c_f)$ \n",
    "- Agent (worker):  $(c_s, c_f)$\n",
    "\n",
    "The agent maximize the von-Neumann-Morgenstern expected utility:\n",
    "\n",
    "$Eu(c|p) = p u(c_s) + (1-p) u(c_f)$"
   ]
  },
  {
   "cell_type": "markdown",
   "metadata": {
    "slideshow": {
     "slide_type": "slide"
    }
   },
   "source": [
    "### Monopoly Contract design Example \n",
    "\n",
    "\n",
    "$$\\max_{c_s,c_f} \\ \\ E(X|p) - E(c|p)$$\n",
    "\n",
    "$$Eu(c|p) \\ge \\bar u$$\n",
    "\n",
    "Lagrangian:\n",
    "$$\\mathcal{L}(c_s, c_f,\\lambda) =  p \\cdot (X_s-c_s) + (1-p) \\cdot (X_f-c_f) \\\\\n",
    "-\\lambda \\left( \\bar u - p \\cdot  u(c_s) - (1-p) u(c_f) \\right)$$"
   ]
  },
  {
   "cell_type": "markdown",
   "metadata": {
    "slideshow": {
     "slide_type": "slide"
    }
   },
   "source": [
    "#### Monopoly FOC \n",
    "\n",
    "for state-contingent claim in state $s$:  $p \\cdot \\lambda \\cdot u'(c_s)-p =0 $\n",
    "\n",
    "Rearranging for $i=s,f$\n",
    "\n",
    "$$ \\frac{1}{u'(c_s)} = \\lambda  = \\frac{1}{u'(c_f)} $$"
   ]
  },
  {
   "cell_type": "markdown",
   "metadata": {
    "slideshow": {
     "slide_type": "slide"
    }
   },
   "source": [
    "This implies agent should be fully insured:  $c_s = c_f = c^*$"
   ]
  },
  {
   "cell_type": "markdown",
   "metadata": {
    "slideshow": {
     "slide_type": "subslide"
    }
   },
   "source": [
    "substitute $c_s = c_f = c^*$ into agent participation: \n",
    "\n",
    "If for example $u(c) = \\frac{c^{\\alpha}}{\\alpha}$ and $\\alpha=\\frac{1}{2}$ then $2\\sqrt{\\bar c^*} = \\bar u$"
   ]
  },
  {
   "cell_type": "markdown",
   "metadata": {
    "slideshow": {
     "slide_type": "fragment"
    }
   },
   "source": [
    "Monopoly contract pays worker a fixed wage determined by their reservation utility: \n",
    "$c^* = \\left (\\frac{\\bar u}{2} \\right )^2$"
   ]
  },
  {
   "cell_type": "markdown",
   "metadata": {
    "slideshow": {
     "slide_type": "fragment"
    }
   },
   "source": [
    "For example if the worker ran the project without insurance:\n",
    "\n",
    "$\\bar u = 0.8 \\cdot 2 \\sqrt(100) + 0.2 2 \\sqrt(0) = 16$ utils \n",
    "\n",
    "The monopoly insurer offers safe contract: $c_f=c_s=64$\n",
    "\n",
    "Firm then earns $X_s - c_s = 100 - 64 = 36$ or $X_f - c_f = 0 - 64 = -64$\n",
    "\n",
    "For expected return of $0.8 \\cdot 64 + 0.2 (-36) = 44$"
   ]
  },
  {
   "cell_type": "markdown",
   "metadata": {
    "slideshow": {
     "slide_type": "subslide"
    }
   },
   "source": [
    "### Competitive Contract design\n",
    "Employers compete for workers: \n",
    "\n",
    "$$\\max_{c_s, c_f}  p \\cdot  u(c_s) + (1-p) u(c_f)$$\n",
    "\n",
    "subject to then employer participation (zero-profit) constraint:\n",
    "\n",
    "$$p \\cdot (X_s-c_s) + (1-p) \\cdot (X_f-c_f) \\geq 0$$"
   ]
  },
  {
   "cell_type": "markdown",
   "metadata": {
    "slideshow": {
     "slide_type": "subslide"
    }
   },
   "source": [
    "### Competitive Contract design Example \n",
    "\n",
    "$$\\mathcal{L}(c_s, c_f,\\lambda) =  p \\cdot  u(c_s) + (1-p) u(c_f) \\\\\n",
    "+\\lambda \\left( p \\cdot (X_s-c_s) - (1-p) \\cdot (X_f-c_f) \\right)$$\n",
    "\n",
    "Same FOC as above imply:  $c_s = c_f$\n",
    "\n",
    "substitute this now into employer participation to get:   $c_f=c_s = E(X|p)$\n",
    "\n",
    "In our example agent is paid  $c_f=c_s = 80$\n",
    "\n",
    "And firm earns $(X_s-c_s)=100-80 = 20$ and $(X_f-c_f)= 0 - 80 = -80$ for expected return of zero."
   ]
  },
  {
   "cell_type": "markdown",
   "metadata": {
    "slideshow": {
     "slide_type": "subslide"
    }
   },
   "source": [
    "### Competitive financing\n",
    "\n",
    "A financial contract is modeled just like this last example (with a slight rewriting and reinterpretation of the Bank (i.e. the principal's) participation constraint).  \n",
    "\n",
    "Suppose agent has access to the same stochastic project above but can only get it started with lump sum investment $I$.\n",
    "\n",
    "$$\\max_{c_s, c_f}  p \\cdot  u(c_s) + (1-p) u(c_f)$$\n",
    "\n",
    "subject to then employer participation (zero-profit) constraint:\n",
    "\n",
    "$$p \\cdot (X_s-c_s) + (1-p) \\cdot (X_f-c_f) \\geq I(1+r)$$\n",
    "\n",
    "Exactly the problem above only that the participation constraint includes a term to cover the opportunity cost of funding."
   ]
  },
  {
   "cell_type": "markdown",
   "metadata": {
    "slideshow": {
     "slide_type": "subslide"
    }
   },
   "source": [
    "Lagrangian: \n",
    "\n",
    "$$\\mathcal{L}(c_s, c_f,\\lambda) =  p \\cdot  u(c_s) + (1-p) u(c_f) \\\\\n",
    "+\\lambda \\left( I(1+r) - p \\cdot (X_s-c_s) - (1-p) \\cdot (X_f-c_f) \\right)$$\n",
    "\n",
    "FOC again imply contract keeps agent's consumption steady at:  $c_s = c_f = c^*$\n",
    "\n",
    "Bank just breaks even: $E(X|p) - E(c|p) = I(1+r)$"
   ]
  },
  {
   "cell_type": "markdown",
   "metadata": {
    "slideshow": {
     "slide_type": "subslide"
    }
   },
   "source": [
    "**Example:  Suppose loan finance costs $I(1+r) = 70$**\n",
    "\n",
    "$E(c|p) = E(X|p) - I(1+r)$\n",
    "\n",
    "$E(c|p) = 80 - 70 = 10$\n"
   ]
  },
  {
   "cell_type": "markdown",
   "metadata": {
    "slideshow": {
     "slide_type": "fragment"
    }
   },
   "source": [
    "Can think of contract as a loan with state-contingent repayments:\n",
    "\n",
    "$X_s - c_s - I(1+r) = 100 - 10 - 70 = 20$\n",
    "\n",
    "$X_f - c_f - I(1+r) =   0 - 10 - 70 = -80$"
   ]
  },
  {
   "cell_type": "markdown",
   "metadata": {
    "slideshow": {
     "slide_type": "fragment"
    }
   },
   "source": [
    "Bank breaks even: $0.8 \\cdot 20 + 0.2 \\cdot (-80) = 0$"
   ]
  },
  {
   "cell_type": "markdown",
   "metadata": {
    "slideshow": {
     "slide_type": "subslide"
    }
   },
   "source": [
    "Can extend to many states of the world:\n",
    "\n",
    "$$E(X|e) = \\sum_i {X_i \\cdot f(X_i|e)}$$"
   ]
  },
  {
   "cell_type": "code",
   "execution_count": 18,
   "metadata": {
    "slideshow": {
     "slide_type": "skip"
    }
   },
   "outputs": [],
   "source": [
    "alpha = 0.25"
   ]
  },
  {
   "cell_type": "code",
   "execution_count": 19,
   "metadata": {
    "slideshow": {
     "slide_type": "skip"
    }
   },
   "outputs": [],
   "source": [
    "def u(c, alpha=alpha):\n",
    "    return (1/alpha)*c**alpha\n",
    "\n",
    "def E(x,p):\n",
    "    return p*x[1] + (1-p)*x[0]\n",
    "\n",
    "def EU(c, p):\n",
    "    return p*u(c[1]) + (1-p)*u(c[0])\n",
    "\n",
    "def budgetc(c0, p, x):\n",
    "    return E(x,p)/p - ((1-p)/p)*c0\n",
    "\n",
    "def indif(c0, p, ubar):\n",
    "    return (alpha*(ubar-(1-p)*u(c0))/p)**(1/alpha)\n",
    "\n",
    "def IC(c0,p,q,B):\n",
    "    '''incentive compatibility line'''\n",
    "    return (alpha*(u(c0)+B/(p-q)))**(1/alpha)"
   ]
  },
  {
   "cell_type": "code",
   "execution_count": 20,
   "metadata": {
    "slideshow": {
     "slide_type": "skip"
    }
   },
   "outputs": [],
   "source": [
    "def Bopt(p,x):\n",
    "    '''Bank profit maximum'''\n",
    "    return (alpha*EU(x,p))**(1/alpha)\n",
    "\n",
    "def Copt(p,x):\n",
    "    '''Consumer utility maximum'''\n",
    "    return E(x,p)\n",
    "    \n",
    "    "
   ]
  },
  {
   "cell_type": "code",
   "execution_count": 21,
   "metadata": {
    "slideshow": {
     "slide_type": "skip"
    }
   },
   "outputs": [],
   "source": [
    "x = [15,90]\n",
    "p = 0.6"
   ]
  },
  {
   "cell_type": "code",
   "execution_count": 22,
   "metadata": {
    "slideshow": {
     "slide_type": "skip"
    }
   },
   "outputs": [
    {
     "data": {
      "text/plain": [
       "9.797958971132712"
      ]
     },
     "execution_count": 22,
     "metadata": {},
     "output_type": "execute_result"
    }
   ],
   "source": [
    "EU([36,36],p)"
   ]
  },
  {
   "cell_type": "markdown",
   "metadata": {
    "slideshow": {
     "slide_type": "slide"
    }
   },
   "source": [
    "# Moral Hazard or Hidden Actions\n",
    "\n",
    "or Hidden Actions model\n",
    "\n",
    "\n",
    "### Risk sharing vs. incentives\n",
    "\n",
    "Stiglitz (1974), Holmstrom (1979), Grossman and Hart (1983)\n",
    "\n",
    "\n",
    "Agent's private benefit from avoiding diligence or effort is B (extra disutility from high vs. low effort).  \n",
    "\n",
    "Effort is non-contractible and $B$ cannot be observed/seized. Effort-contingent contracts not possible.\n",
    "\n",
    "Only outcone-contingent contracts can be used. "
   ]
  },
  {
   "cell_type": "markdown",
   "metadata": {
    "slideshow": {
     "slide_type": "slide"
    }
   },
   "source": [
    "## Hidden actions\n",
    "\n",
    "Now agent's unobserved (or more to the point non-verifiable) effort levels determines success probability: \n",
    " - High  $e_H$  (probability of success $p$).\n",
    " - Low $e_L$ (probability of success $q$).  \n",
    " - Can no longer offer earlier risk-sharing contract ($c=10$) as cnnot be sure success probability is $p$\n",
    "  \n",
    " Example $q=0.6$ versus $p=0.8$\n",
    "     - E(X|p) - E(c|p) - I(1+r) =  80-10-70 = 0 (bank breaks even)\n",
    "     - E(X|q) - E(c|q) - I(1+r) =  60-10-70 = -20 (bank loses money)"
   ]
  },
  {
   "cell_type": "markdown",
   "metadata": {
    "slideshow": {
     "slide_type": "slide"
    }
   },
   "source": [
    "### On the other hand full-residual claimancy contract imposes too much risk\n",
    " \n",
    " - Full residual claimant when fixed repayment $I(1+r)$\n",
    "     - $c_s = 100-70 = 30$\n",
    "     - $c_f = -70 = -70$\n",
    "     - $0.8 (30) + 0.2(-70) = 24 - 14 = 10$\n",
    "\n",
    "- But this imposes a lot of risk  (actually here not even defined since u(-70) is 'catastrophic')\n",
    " \n",
    "- Need to find balance between risk sharing and incentives"
   ]
  },
  {
   "cell_type": "markdown",
   "metadata": {
    "slideshow": {
     "slide_type": "slide"
    }
   },
   "source": [
    "## Incentive compatibility constraint:\n",
    "\n",
    "$$EU(c|p) \\geq EU(c|q) + B$$\n",
    "\n",
    "In 2 outcome case can be re-arranged to:\n",
    "\n",
    "$$u(c_1) \\geq u(c_0) + \\frac{B}{p-q}$$"
   ]
  },
  {
   "cell_type": "markdown",
   "metadata": {
    "slideshow": {
     "slide_type": "skip"
    }
   },
   "source": [
    "## Interactive indifference curve diagram"
   ]
  },
  {
   "cell_type": "code",
   "execution_count": 23,
   "metadata": {
    "slideshow": {
     "slide_type": "skip"
    }
   },
   "outputs": [],
   "source": [
    "p = 0.5\n",
    "q = 0.4\n",
    "cmax = 100\n",
    "B = 1.5"
   ]
  },
  {
   "cell_type": "code",
   "execution_count": 24,
   "metadata": {
    "slideshow": {
     "slide_type": "skip"
    }
   },
   "outputs": [
    {
     "data": {
      "text/plain": [
       "595.1534438537282"
      ]
     },
     "execution_count": 24,
     "metadata": {},
     "output_type": "execute_result"
    }
   ],
   "source": [
    "IC(2,p,q,B)"
   ]
  },
  {
   "cell_type": "code",
   "execution_count": 25,
   "metadata": {
    "slideshow": {
     "slide_type": "skip"
    }
   },
   "outputs": [],
   "source": [
    "def consume_plot(p,q,B,ic=False):\n",
    "    c0 = np.linspace(0.1,200,num=100)\n",
    "    \n",
    "    #bank optimum\n",
    "    c0e = Bopt(p,x)\n",
    "    c1e = c0e\n",
    "    uebar = EU([c0e,c1e],p)\n",
    "    idfc = indif(c0, p, uebar)\n",
    "    budg = budgetc(c0, p, [c0e,c1e])\n",
    "    \n",
    "    #consumer optimum\n",
    "    c0ee = Copt(p,x)\n",
    "    c1ee = c0ee\n",
    "    uemax = EU([c0ee,c1ee],p)\n",
    "    idfcmax = indif(c0, p, uemax)\n",
    "    zerop = budgetc(c0, p, x)\n",
    "    icline = IC(c0,p,q,B)\n",
    "       \n",
    "    \n",
    "    fig, ax = plt.subplots(figsize=(10,10))\n",
    "    if ic:\n",
    "        ax.plot(c0,icline)\n",
    "    ax.plot(c0, budg, lw=2.5)\n",
    "    ax.plot(c0, zerop, lw=2.5)\n",
    "    ax.plot(c0, idfc, lw=2.5)\n",
    "    #ax.plot(c0, idfcmax, lw=2.5)\n",
    "    ax.plot(c0,c0)\n",
    "    #ax.vlines(c0e,0,c2e, linestyles=\"dashed\")\n",
    "    #ax.hlines(c1e,0,c1e, linestyles=\"dashed\")\n",
    "    ax.plot(c0e,c1e,'ob')\n",
    "    ax.plot(c0ee,c1ee,'ob')\n",
    "    ax.plot(x[0],x[1],'ob')\n",
    "    ax.set_xlim(0, 100)\n",
    "    ax.set_ylim(0, 100)\n",
    "    ax.set_xlabel(r'$c_0$', fontsize=16)\n",
    "    ax.set_ylabel('$c_1$', fontsize=16)\n",
    "    ax.spines['right'].set_visible(False)\n",
    "    ax.spines['top'].set_visible(False)\n",
    "    ax.grid()\n",
    "    plt.show()"
   ]
  },
  {
   "cell_type": "code",
   "execution_count": 26,
   "metadata": {},
   "outputs": [
    {
     "data": {
      "image/png": "[encoded data removed]",
      "text/plain": [
       "<Figure size 720x720 with 1 Axes>"
      ]
     },
     "metadata": {
      "needs_background": "light"
     },
     "output_type": "display_data"
    },
    {
     "data": {
      "text/plain": [
       "<Figure size 432x288 with 0 Axes>"
      ]
     },
     "metadata": {},
     "output_type": "display_data"
    }
   ],
   "source": [
    "consume_plot(p=0.5, q=0.30, B=0.5, ic=True)\n",
    "plt.savefig('mhazard.png')"
   ]
  },
  {
   "cell_type": "code",
   "execution_count": 27,
   "metadata": {
    "slideshow": {
     "slide_type": "slide"
    }
   },
   "outputs": [
    {
     "data": {
      "application/vnd.jupyter.widget-view+json": {
       "model_id": "3d96b6404ac94721915e20c3c301da45",
       "version_major": 2,
       "version_minor": 0
      },
      "text/plain": [
       "interactive(children=(FloatSlider(value=0.30000000000000004, description='q', max=0.5, min=0.1, step=0.01), Fl…"
      ]
     },
     "metadata": {},
     "output_type": "display_data"
    }
   ],
   "source": [
    "interact(consume_plot,p=fixed(0.5),q=(0.1,0.5,0.01),B=(0,3,0.1));"
   ]
  },
  {
   "cell_type": "markdown",
   "metadata": {
    "slideshow": {
     "slide_type": "slide"
    }
   },
   "source": [
    "If we set this up and solve it as a Lagrangean (loosely following Holmstrom, 1979) we get a condition like this:"
   ]
  },
  {
   "cell_type": "markdown",
   "metadata": {
    "slideshow": {
     "slide_type": "fragment"
    }
   },
   "source": [
    "$$\\frac{1}{u'(c_i)} = \\lambda + \\mu \\cdot \n",
    "\\left [ {1-\\frac{f(x_i,e_L)}{f(x_i,e_H)}} \\right ]  \\text{ }\\forall i\n",
    "$$"
   ]
  },
  {
   "cell_type": "markdown",
   "metadata": {
    "slideshow": {
     "slide_type": "subslide"
    }
   },
   "source": [
    "In our two outcome case $p=f(x_1|e_H)$ and $q=f(x_1|e_L)$ and this becomes:\n",
    "\n",
    "$$\\frac{1}{u'(c_1)} = \\lambda + \\mu \\cdot \n",
    "\\left [ {1-\\frac{q}{p}} \\right ]  \n",
    "$$\n",
    "\n",
    "$$\\frac{1}{u'(c_0)} = \\lambda + \\mu \\cdot \n",
    "\\left [ {1-\\frac{1-q}{1-p}} \\right ]  \n",
    "$$"
   ]
  },
  {
   "cell_type": "markdown",
   "metadata": {
    "slideshow": {
     "slide_type": "skip"
    }
   },
   "source": [
    "TODO:  \n",
    " - Functions to solve the two outcome cases (closed form possible, substitute IC into binding PC; or 2 FOC plus IC plus PC for $c_0, c_1, \\lambda  \\text{ and } \\mu$).\n",
    " - Function to solve numerically for N outcomes (N FOCs and one participation constraint).\n",
    " - discuss how sensitive to distribution"
   ]
  },
  {
   "cell_type": "markdown",
   "metadata": {
    "slideshow": {
     "slide_type": "slide"
    }
   },
   "source": [
    "Holmstrom's sufficient statistic"
   ]
  },
  {
   "cell_type": "markdown",
   "metadata": {
    "slideshow": {
     "slide_type": "fragment"
    }
   },
   "source": [
    "$$\\frac{1}{u'(c)} = \\lambda + \\mu \\cdot \n",
    "\\left [ {1-\\frac{f(x,y,e_L)}{f(x,y,e_H)}} \\right ]  \\text{ }\\forall i\n",
    "$$"
   ]
  },
  {
   "cell_type": "code",
   "execution_count": 11,
   "metadata": {},
   "outputs": [
    {
     "data": {
      "text/html": [
       "<script src=\"https://cdn.rawgit.com/parente/4c3e6936d0d7a46fd071/raw/65b816fb9bdd3c28b4ddf3af602bfd6015486383/code_toggle.js\"></script>\n"
      ],
      "text/plain": [
       "<IPython.core.display.HTML object>"
      ]
     },
     "metadata": {},
     "output_type": "display_data"
    }
   ],
   "source": [
    "%%html\n",
    "<script src=\"https://cdn.rawgit.com/parente/4c3e6936d0d7a46fd071/raw/65b816fb9bdd3c28b4ddf3af602bfd6015486383/code_toggle.js\"></script>"
   ]
  },
  {
   "cell_type": "code",
   "execution_count": null,
   "metadata": {},
   "outputs": [],
   "source": []
  },
  {
   "cell_type": "code",
   "execution_count": null,
   "metadata": {},
   "outputs": [],
   "source": []
  }
 ],
 "metadata": {
  "anaconda-cloud": {},
  "hide_input": false,
  "kernel_info": {
   "name": "python3"
  },
  "kernelspec": {
   "display_name": "Python 3",
   "language": "python",
   "name": "python3"
  },
  "language_info": {
   "codemirror_mode": {
    "name": "ipython",
    "version": 3
   },
   "file_extension": ".py",
   "mimetype": "text/x-python",
   "name": "python",
   "nbconvert_exporter": "python",
   "pygments_lexer": "ipython3",
   "version": "3.7.3"
  },
  "nteract": {
   "version": "0.2.0"
  },
  "varInspector": {
   "cols": {
    "lenName": 16,
    "lenType": 16,
    "lenVar": 40
   },
   "kernels_config": {
    "python": {
     "delete_cmd_postfix": "",
     "delete_cmd_prefix": "del ",
     "library": "var_list.py",
     "varRefreshCmd": "print(var_dic_list())"
    },
    "r": {
     "delete_cmd_postfix": ") ",
     "delete_cmd_prefix": "rm(",
     "library": "var_list.r",
     "varRefreshCmd": "cat(var_dic_list()) "
    }
   },
   "types_to_exclude": [
    "module",
    "function",
    "builtin_function_or_method",
    "instance",
    "_Feature"
   ],
   "window_display": false
  },
  "widgets": {
   "application/vnd.jupyter.widget-state+json": {
    "state": {
     "0fc3c24482f3466f83cd55b389d70703": {
      "model_module": "@jupyter-widgets/controls",
      "model_module_version": "1.5.0",
      "model_name": "VBoxModel",
      "state": {
       "_dom_classes": [
        "widget-interact"
       ],
       "children": [
        "IPY_MODEL_4a00a9d9946245c5a54de0d647041353",
        "IPY_MODEL_cab641c1152d41928202813cfbe2c21a",
        "IPY_MODEL_ce609235e7494d32929bd8effc9670ad",
        "IPY_MODEL_20b5a35e1e864b4bab74fe1f25e99c8d"
       ],
       "layout": "IPY_MODEL_e9c5b17698014ad298bac1ed4e594164"
      }
     },
     "1963254c77c9437a9cb5b4eee3aaa510": {
      "model_module": "@jupyter-widgets/base",
      "model_module_version": "1.2.0",
      "model_name": "LayoutModel",
      "state": {}
     },
     "20b5a35e1e864b4bab74fe1f25e99c8d": {
      "model_module": "@jupyter-widgets/output",
      "model_module_version": "1.0.0",
      "model_name": "OutputModel",
      "state": {
       "layout": "IPY_MODEL_ef61b522bd6348c9a6772e537be794d7",
       "outputs": [
        {
         "data": {
          "image/png": "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\n",
          "text/plain": "<Figure size 720x720 with 1 Axes>"
         },
         "metadata": {
          "needs_background": "light"
         },
         "output_type": "display_data"
        }
       ]
      }
     },
     "3b39351045494650875903e319901419": {
      "model_module": "@jupyter-widgets/controls",
      "model_module_version": "1.5.0",
      "model_name": "SliderStyleModel",
      "state": {
       "description_width": ""
      }
     },
     "41a39686a969462894b8b273658f3316": {
      "model_module": "@jupyter-widgets/controls",
      "model_module_version": "1.5.0",
      "model_name": "DescriptionStyleModel",
      "state": {
       "description_width": ""
      }
     },
     "4a00a9d9946245c5a54de0d647041353": {
      "model_module": "@jupyter-widgets/controls",
      "model_module_version": "1.5.0",
      "model_name": "FloatSliderModel",
      "state": {
       "description": "q",
       "layout": "IPY_MODEL_574c5ac0a07f42c0adcb59fa2acd7a2f",
       "max": 0.5,
       "min": 0.1,
       "step": 0.01,
       "style": "IPY_MODEL_3b39351045494650875903e319901419",
       "value": 0.30000000000000004
      }
     },
     "574c5ac0a07f42c0adcb59fa2acd7a2f": {
      "model_module": "@jupyter-widgets/base",
      "model_module_version": "1.2.0",
      "model_name": "LayoutModel",
      "state": {}
     },
     "5c86fccfa9234e46ae8407378b284a19": {
      "model_module": "@jupyter-widgets/base",
      "model_module_version": "1.2.0",
      "model_name": "LayoutModel",
      "state": {}
     },
     "5f5e3bac2c2a4d059b3d4531c0c21935": {
      "model_module": "@jupyter-widgets/controls",
      "model_module_version": "1.5.0",
      "model_name": "SliderStyleModel",
      "state": {
       "description_width": ""
      }
     },
     "cab641c1152d41928202813cfbe2c21a": {
      "model_module": "@jupyter-widgets/controls",
      "model_module_version": "1.5.0",
      "model_name": "FloatSliderModel",
      "state": {
       "description": "B",
       "layout": "IPY_MODEL_1963254c77c9437a9cb5b4eee3aaa510",
       "max": 3,
       "step": 0.1,
       "style": "IPY_MODEL_5f5e3bac2c2a4d059b3d4531c0c21935",
       "value": 0.5
      }
     },
     "ce609235e7494d32929bd8effc9670ad": {
      "model_module": "@jupyter-widgets/controls",
      "model_module_version": "1.5.0",
      "model_name": "CheckboxModel",
      "state": {
       "description": "ic",
       "disabled": false,
       "layout": "IPY_MODEL_5c86fccfa9234e46ae8407378b284a19",
       "style": "IPY_MODEL_41a39686a969462894b8b273658f3316",
       "value": true
      }
     },
     "e9c5b17698014ad298bac1ed4e594164": {
      "model_module": "@jupyter-widgets/base",
      "model_module_version": "1.2.0",
      "model_name": "LayoutModel",
      "state": {}
     },
     "ef61b522bd6348c9a6772e537be794d7": {
      "model_module": "@jupyter-widgets/base",
      "model_module_version": "1.2.0",
      "model_name": "LayoutModel",
      "state": {}
     }
    },
    "version_major": 2,
    "version_minor": 0
   }
  }
 },
 "nbformat": 4,
 "nbformat_minor": 4
}
